{
 "cells": [
  {
   "cell_type": "markdown",
   "id": "29bd10fd-0db3-4aeb-8695-83c7c0ab7966",
   "metadata": {},
   "source": [
    "# Circuit cutting data plotting notebook for Perlmutter, lightning.gpu and Ray"
   ]
  },
  {
   "cell_type": "code",
   "execution_count": null,
   "id": "0355d515-de60-4225-9e67-e4e9fb7b8fe2",
   "metadata": {},
   "outputs": [],
   "source": [
    "%matplotlib qt5"
   ]
  },
  {
   "cell_type": "code",
   "execution_count": null,
   "id": "8d2aef16-9d10-43a6-b11e-cb7060310f9f",
   "metadata": {},
   "outputs": [],
   "source": [
    "import matplotlib\n",
    "import matplotlib.pyplot as plt\n",
    "import numpy as np\n",
    "import pandas as pd\n",
    "from io import StringIO\n",
    "from scipy.optimize import curve_fit, Bounds\n",
    "plt.rcParams['text.usetex'] = True"
   ]
  },
  {
   "cell_type": "markdown",
   "id": "6764ce73-4b54-4a59-b84e-c23afd14ab7b",
   "metadata": {},
   "source": [
    "Data taken directly from SLURM log-files."
   ]
  },
  {
   "cell_type": "code",
   "execution_count": null,
   "id": "c43b1446-5886-48bd-b3ce-c8fc9e4ca087",
   "metadata": {},
   "outputs": [],
   "source": [
    "df_batched = pd.read_csv(\"./QAOA_QCUT_BATCHED_CUDA12/BATCHED.csv\").sort_values('num_nodes')\n",
    "df_ondemand = pd.read_csv(\"./QAOA_QCUT_ONDEMAND_CUDA12/ONDEMAND.csv\").sort_values('num_nodes')"
   ]
  },
  {
   "cell_type": "code",
   "execution_count": null,
   "id": "88844ec8-765a-4d1d-8c74-bbcb9db226ea",
   "metadata": {},
   "outputs": [],
   "source": [
    "df_batched"
   ]
  },
  {
   "cell_type": "code",
   "execution_count": null,
   "id": "874aea9e-5f43-4c54-8cb6-f6338285000d",
   "metadata": {},
   "outputs": [],
   "source": [
    "df_ondemand"
   ]
  },
  {
   "cell_type": "markdown",
   "id": "f7bf47f5-270c-412e-a030-2c755fc956c1",
   "metadata": {},
   "source": [
    "# Runtime data for different scheduling strategies"
   ]
  },
  {
   "cell_type": "code",
   "execution_count": null,
   "id": "956b3dcd-450e-46cd-87c8-3c26d7e31709",
   "metadata": {},
   "outputs": [],
   "source": [
    "cmap = matplotlib.colormaps['tab20']\n",
    "colors = cmap.colors"
   ]
  },
  {
   "cell_type": "code",
   "execution_count": null,
   "id": "2296470d-d56b-41f3-b01f-6bd0170df3e3",
   "metadata": {},
   "outputs": [],
   "source": [
    "plt.figure()\n",
    "plt.rcParams.update({'font.size': 16})\n",
    "plt.plot(df_batched[\"num_nodes\"], df_batched[\"frag_exec_time\"], linewidth=3, label=\"batched\", marker=\"o\", color=colors[0], mec=\"k\", mfc=\"w\")\n",
    "plt.plot(df_ondemand[\"num_nodes\"], df_ondemand[\"frag_exec_time\"], linewidth=3, label=\"on-demand\", marker=\"o\", color=colors[2], mec=\"k\", mfc=\"w\")\n",
    "plt.yscale(\"log\")\n",
    "plt.xscale(\"log\")\n",
    "plt.xticks([2**i for i in range(len(df_ondemand[\"num_nodes\"]))], labels=[f\"${{{i}}}$\" for i in df_ondemand[\"num_nodes\"]])\n",
    "plt.ylabel(\"$\\\\textrm{circuit exec. time (s)}$\")\n",
    "plt.xlabel(\"$\\\\textrm{nodes}$\")\n",
    "\n",
    "plt.legend()"
   ]
  },
  {
   "cell_type": "code",
   "execution_count": null,
   "id": "7ca9ae08-3d45-403f-bd5d-f4735f85fe90",
   "metadata": {},
   "outputs": [],
   "source": [
    "def time_per_cct(data):\n",
    "    num_circuits = data[\"num_cut_circuits\"][0]\n",
    "    num_nodes =  data[\"num_nodes\"] # [2**i for i in list((data.keys()))]\n",
    "    num_gpus = data[\"num_gpus\"] # [4*i for i in num_nodes] \n",
    "    t = np.array(data[\"frag_exec_time\"])    #frag_exec_time\n",
    "    t_per_cct = t / num_circuits\n",
    "    return t_per_cct"
   ]
  },
  {
   "cell_type": "code",
   "execution_count": null,
   "id": "c9728396-46b7-48c1-90c9-d631db3e25a5",
   "metadata": {},
   "outputs": [],
   "source": [
    "def func(x, a, b):\n",
    "    \"Linear fit function\"\n",
    "    return a * x + b"
   ]
  },
  {
   "cell_type": "markdown",
   "id": "b49b6f7a-b4c6-46bc-9919-87ee0c854592",
   "metadata": {},
   "source": [
    "# Time per circuit based on GPU count"
   ]
  },
  {
   "cell_type": "code",
   "execution_count": null,
   "id": "55b210e3-e12e-4c27-a3a4-5c62a4b6c2ac",
   "metadata": {},
   "outputs": [],
   "source": [
    "plt.figure()\n",
    "\n",
    "popt_batch, pcov_batch = curve_fit(func, np.array(df_batched[\"num_nodes\"]),  1/time_per_cct(df_batched) )\n",
    "popt_ondemand, pcov_ondemand = curve_fit(func, np.array(df_ondemand[\"num_nodes\"]),  1/time_per_cct(df_ondemand) )\n",
    "num_nodes = df_batched[\"num_nodes\"]\n",
    "\n",
    "plt.scatter([i for i in num_nodes], 1/time_per_cct(df_batched), label=\"$\\\\textrm{batched}$\",  marker=\"o\", color=colors[0], ec=\"k\", zorder=10)\n",
    "plt.scatter([i for i in num_nodes], 1/time_per_cct(df_ondemand), label=\"$\\\\textrm{on-demand}$\", marker=\"o\", color=colors[2], ec=\"k\", zorder=9)\n",
    "plt.plot([i for i in num_nodes],  func(df_batched[\"num_nodes\"], *popt_batch), ':', linewidth=3, label=f\"$f(x) = {popt_batch[0]:{4}.{3}}x + {popt_batch[1]:{4}.{3}}$\", alpha=0.95, color=colors[1], zorder=1)\n",
    "plt.plot([i for i in num_nodes],  func(df_ondemand[\"num_nodes\"], *popt_ondemand), ':', linewidth=3,label=f\"$f(x) = {popt_ondemand[0]:{4}.{3}}x + {popt_ondemand[1]:{4}.{3}}$\", alpha=0.95, color=colors[3], zorder=0)\n",
    "\n",
    "xticks = list(num_nodes)\n",
    "xticks.remove(2)\n",
    "\n",
    "plt.xticks(ticks = xticks, labels=[f\"${i}$\" for i in xticks])\n",
    "\n",
    "plt.xlabel(\"$\\\\textrm{nodes}$\")\n",
    "plt.ylabel(\"$\\\\textrm{circuit per second}~(s^{-1})$\")\n",
    "\n",
    "plt.ylim([-0.5, 90])\n",
    "plt.xlim([0, 70])\n",
    "\n",
    "plt.legend(loc='best', fontsize=12, ncol=2, fancybox=True, shadow=True)\n",
    "plt.tight_layout()"
   ]
  },
  {
   "cell_type": "code",
   "execution_count": null,
   "id": "fc48c860-2e56-4070-998f-e31aed91cb53",
   "metadata": {},
   "outputs": [],
   "source": [
    "plt.savefig(\"lightning_gpu_task_based_qcut_45k_scaling_cct_seconds.pdf\", dpi=300)"
   ]
  },
  {
   "cell_type": "code",
   "execution_count": null,
   "id": "e31f81f4-984c-4a48-9a6e-339189a84799",
   "metadata": {},
   "outputs": [],
   "source": [
    "plt.tight_layout()"
   ]
  },
  {
   "cell_type": "markdown",
   "id": "8c6244d4-4f37-42f3-a479-83ced6492743",
   "metadata": {},
   "source": [
    "# 2x1 plot of above figures"
   ]
  },
  {
   "cell_type": "code",
   "execution_count": null,
   "id": "99697675-4b2a-488e-a363-cd6245db0497",
   "metadata": {},
   "outputs": [],
   "source": [
    "cmap_alt = matplotlib.colormaps['tab20b']\n",
    "colors_alt = cmap_alt.colors"
   ]
  },
  {
   "cell_type": "code",
   "execution_count": null,
   "id": "853b30e6-49df-46f3-b430-e206be9567de",
   "metadata": {},
   "outputs": [],
   "source": [
    "f, axs = plt.subplots(2,1, sharex=True, squeeze=True)\n",
    "plt.rcParams.update({'font.size': 16})\n",
    "\n",
    "\n",
    "axs[0].plot(df_batched[\"num_gpus\"], df_batched[\"frag_exec_time\"], linewidth=3, label=\"batched\", marker=\"o\", color=colors_alt[2], mec=\"k\", mfc=\"w\")\n",
    "axs[0].plot(df_ondemand[\"num_gpus\"], df_ondemand[\"frag_exec_time\"], linewidth=3, label=\"on-demand\", marker=\"o\", color=colors_alt[14], mec=\"k\", mfc=\"w\")\n",
    "axs[0].set_yscale(\"log\")\n",
    "axs[0].set_xscale(\"log\", base=2)\n",
    "axs[0].set_xticks(df_ondemand[\"num_gpus\"], labels=[f\"${{{i}}}$\" for i in df_ondemand[\"num_gpus\"]])\n",
    "axs[0].set_ylabel(\"$t~\\\\textrm{(s)}$\")\n",
    "\n",
    "popt_batch, pcov_batch = curve_fit(func, np.array(df_batched[\"num_gpus\"]),  1/time_per_cct(df_batched) )\n",
    "popt_ondemand, pcov_ondemand = curve_fit(func, np.array(df_ondemand[\"num_gpus\"]), 1/time_per_cct(df_ondemand) )\n",
    "num_gpus = df_batched[\"num_gpus\"]\n",
    "\n",
    "axs[1].plot([i for i in num_gpus], 1/time_per_cct(df_batched), linewidth=3, label=\"$\\\\textrm{batched}$\",  marker=\"o\", color=colors_alt[2], mec=\"k\", mfc=\"w\", zorder=1)\n",
    "axs[1].plot([i for i in num_gpus], 1/time_per_cct(df_ondemand), linewidth=3, label=\"$\\\\textrm{on-demand}$\", marker=\"o\", color=colors_alt[14], mec=\"k\", mfc=\"w\", zorder=0)\n",
    "axs[1].plot([i for i in num_gpus],  func(df_batched[\"num_gpus\"], *popt_batch), ':', linewidth=3, label=f\"$f(x) = {popt_batch[0]:{4}.{3}}x + {popt_batch[1]:{4}.{3}}$\", alpha=0.95, color=colors_alt[0], zorder=10)\n",
    "axs[1].plot([i for i in num_gpus],  func(df_ondemand[\"num_gpus\"], *popt_ondemand), ':', linewidth=3,label=f\"$f(x) = {popt_ondemand[0]:{4}.{3}}x + {popt_ondemand[1]:{4}.{3}}$\", alpha=0.95, color=colors_alt[12], zorder=9)\n",
    "\n",
    "xticks = list(num_gpus)\n",
    "\n",
    "axs[1].set_xticks(ticks = xticks, labels=[f\"${i}$\" for i in xticks])\n",
    "axs[1].set_yticks(ticks = range(0,100,25), labels=[f\"${i}$\" for i in range(0,100,25)])\n",
    "\n",
    "axs[1].set_xlabel(\"$\\\\textrm{GPUs}$\")\n",
    "axs[1].set_ylabel(\"$\\\\textrm{circ./sec.}~(s^{-1})$\")\n",
    "\n",
    "axs[1].set_ylim([-3.0, 90])\n",
    "axs[1].set_xlim([-2, 290])"
   ]
  },
  {
   "cell_type": "code",
   "execution_count": null,
   "id": "2916dd99-8eb9-433d-a00f-f32535d2df09",
   "metadata": {},
   "outputs": [],
   "source": [
    "plt.tight_layout()"
   ]
  },
  {
   "cell_type": "code",
   "execution_count": null,
   "id": "39afbe44-f4d0-4d01-8716-9f9d40c866bf",
   "metadata": {},
   "outputs": [],
   "source": [
    "plt.subplots_adjust(wspace=0.35, hspace=0.1)"
   ]
  },
  {
   "cell_type": "code",
   "execution_count": null,
   "id": "78b10a33-fe22-43d7-96a9-8c90bfcd00cc",
   "metadata": {},
   "outputs": [],
   "source": [
    "axs[1].legend(loc='lower center', fontsize=14, bbox_to_anchor=(0.45, -1.0), ncol=2, fancybox=True, shadow=True, labelspacing=0.5)"
   ]
  },
  {
   "cell_type": "code",
   "execution_count": null,
   "id": "f396eb0c-cec0-409d-ae00-713b8e63c61b",
   "metadata": {},
   "outputs": [],
   "source": [
    "plt.savefig(\"lightning_gpu_task_based_qcut_45k_scaling_cct_cu12.pdf\", dpi=300)"
   ]
  }
 ],
 "metadata": {
  "kernelspec": {
   "display_name": "Python 3 (ipykernel)",
   "language": "python",
   "name": "python3"
  },
  "language_info": {
   "codemirror_mode": {
    "name": "ipython",
    "version": 3
   },
   "file_extension": ".py",
   "mimetype": "text/x-python",
   "name": "python",
   "nbconvert_exporter": "python",
   "pygments_lexer": "ipython3",
   "version": "3.11.6"
  }
 },
 "nbformat": 4,
 "nbformat_minor": 5
}
