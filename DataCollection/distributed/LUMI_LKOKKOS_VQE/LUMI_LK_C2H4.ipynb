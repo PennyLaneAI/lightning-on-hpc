{
 "cells": [
  {
   "cell_type": "code",
   "execution_count": null,
   "id": "d4a1495a-6185-47a0-b446-f62a5b1444e1",
   "metadata": {},
   "outputs": [],
   "source": [
    "%matplotlib qt"
   ]
  },
  {
   "cell_type": "code",
   "execution_count": null,
   "id": "afc7fd1c-8c02-4d59-9d73-9d5c4f1b85b7",
   "metadata": {},
   "outputs": [],
   "source": [
    "import matplotlib\n",
    "from matplotlib import pyplot as plt\n",
    "import pandas as pd\n",
    "import numpy as np \n",
    "import sqlite3\n",
    "from itertools import product\n",
    "from io import StringIO"
   ]
  },
  {
   "cell_type": "code",
   "execution_count": null,
   "id": "72c65e06-f0f0-4529-abac-e71f1f316055",
   "metadata": {},
   "outputs": [],
   "source": [
    "plt.rcParams['text.usetex'] = True\n",
    "fig_output_dir=\"Figures\""
   ]
  },
  {
   "cell_type": "markdown",
   "id": "5653e218-656f-4314-a83a-b07553543e1b",
   "metadata": {},
   "source": [
    "Data post-processed from SLURM log files on LUMI."
   ]
  },
  {
   "cell_type": "code",
   "execution_count": null,
   "id": "89f35703-241b-4cab-a497-b4e0549b62cb",
   "metadata": {},
   "outputs": [],
   "source": [
    "data_28_32_nodes=\"\"\"qubits=28,num_terms=8919,procs=256,Step=0,Time_grad=397.7593620879343,job=5995037,e0=-64.65802704,e_delta=-67.27855081\n",
    "qubits=28,num_terms=8919,procs=256,Step=1,Time_grad=365.4720005649142,job=5995037,e0=-64.65802704,e_delta=-69.49508568\n",
    "qubits=28,num_terms=8919,procs=256,Step=2,Time_grad=365.40071883099154,job=5995037,e0=-64.65802704,e_delta=-71.06337096\n",
    "qubits=28,num_terms=8919,procs=256,Step=3,Time_grad=364.365238566068,job=5995037,e0=-64.65802704,e_delta=-72.00536815\n",
    "qubits=28,num_terms=8919,procs=256,Step=4,Time_grad=361.6874162000604,job=5995037,e0=-64.65802704,e_delta=-72.56929191\n",
    "qubits=28,num_terms=8919,procs=256,Step=5,Time_grad=361.88069939101115,job=5995037,e0=-64.65802704,e_delta=-72.93940562\n",
    "qubits=28,num_terms=8919,procs=256,Step=6,Time_grad=365.01063865202013,job=5995037,e0=-64.65802704,e_delta=-73.20750035\n",
    "qubits=28,num_terms=8919,procs=256,Step=7,Time_grad=358.9905095130671,job=5995037,e0=-64.65802704,e_delta=-73.41735027\n",
    "qubits=28,num_terms=8919,procs=256,Step=8,Time_grad=363.3217550769914,job=5995037,e0=-64.65802704,e_delta=-73.59079902\n",
    "qubits=28,num_terms=8919,procs=256,Step=9,Time_grad=362.15333417989314,job=5995037,e0=-64.65802704,e_delta=-73.73945174\"\"\"\n",
    "\n",
    "# Energies=[array(-64.65802704), array(-67.27855081), array(-69.49508568), array(-71.06337096), array(-72.00536815), array(-72.56929191), array(-72.93940562), array(-73.20750035), array(-73.41735027), array(-73.59079902), array(-73.73945174)],Time_fwd=360.83875112899113\n",
    "# 4106 seconds elapsed.\n"
   ]
  },
  {
   "cell_type": "code",
   "execution_count": null,
   "id": "95f254f7-1150-494e-b6c4-ab9ab28771bb",
   "metadata": {},
   "outputs": [],
   "source": [
    "data_28_16_nodes=\"\"\"qubits=28,num_terms=8919,procs=128,Step=0,Time_grad=565.7364398352802,job=5992834,e0=-64.65802704,e_delta=-67.27855081\n",
    "qubits=28,num_terms=8919,procs=128,Step=1,Time_grad=524.311954558827,job=5992834,e0=-64.65802704,e_delta=-69.49508568\n",
    "qubits=28,num_terms=8919,procs=128,Step=2,Time_grad=553.8089423235506,job=5992834,e0=-64.65802704,e_delta=-71.06337096\n",
    "qubits=28,num_terms=8919,procs=128,Step=3,Time_grad=529.8905211640522,job=5992834,e0=-64.65802704,e_delta=-72.00536815\n",
    "qubits=28,num_terms=8919,procs=128,Step=4,Time_grad=536.4683884289116,job=5992834,e0=-64.65802704,e_delta=-72.56929191\n",
    "qubits=28,num_terms=8919,procs=128,Step=5,Time_grad=536.2526160823181,job=5992834,e0=-64.65802704,e_delta=-72.93940562\n",
    "qubits=28,num_terms=8919,procs=128,Step=6,Time_grad=538.4574918169528,job=5992834,e0=-64.65802704,e_delta=-73.20750035\n",
    "qubits=28,num_terms=8919,procs=128,Step=7,Time_grad=529.5417222548276,job=5992834,e0=-64.65802704,e_delta=-73.41735027\n",
    "qubits=28,num_terms=8919,procs=128,Step=8,Time_grad=530.24321640376,job=5992834,e0=-64.65802704,e_delta=-73.59079902\n",
    "qubits=28,num_terms=8919,procs=128,Step=9,Time_grad=533.2984914109111,job=5992834,e0=-64.65802704,e_delta=-73.73945174\"\"\"\n",
    "\n",
    "# Energies=[array(-64.65802704), array(-67.27855081), array(-69.49508568), array(-71.06337096), array(-72.00536815), array(-72.56929191), array(-72.93940562), array(-73.20750035), array(-73.41735027), array(-73.59079902), array(-73.73945174)],Time_fwd=530.8454300165176\n",
    "# 5990 seconds elapsed.\n"
   ]
  },
  {
   "cell_type": "code",
   "execution_count": null,
   "id": "f9a7d5df-162c-44bc-bc88-f665de053082",
   "metadata": {},
   "outputs": [],
   "source": [
    "data_28_8_nodes=\"\"\"qubits=28,num_terms=8919,procs=64,Step=0,Time_grad=1114.5532623180188,job=5943067,e0=-64.65802704,e_delta=-67.27855081\n",
    "qubits=28,num_terms=8919,procs=64,Step=1,Time_grad=1078.7062875228003,job=5943067,e0=-64.65802704,e_delta=-69.49508568\n",
    "qubits=28,num_terms=8919,procs=64,Step=2,Time_grad=1075.568835155107,job=5943067,e0=-64.65802704,e_delta=-71.06337096\n",
    "qubits=28,num_terms=8919,procs=64,Step=3,Time_grad=1074.3375940690748,job=5943067,e0=-64.65802704,e_delta=-72.00536815\n",
    "qubits=28,num_terms=8919,procs=64,Step=4,Time_grad=1083.1514287858736,job=5943067,e0=-64.65802704,e_delta=-72.56929191\n",
    "qubits=28,num_terms=8919,procs=64,Step=5,Time_grad=1080.175032248022,job=5943067,e0=-64.65802704,e_delta=-72.93940562\n",
    "qubits=28,num_terms=8919,procs=64,Step=6,Time_grad=1082.1436367179267,job=5943067,e0=-64.65802704,e_delta=-73.20750035\n",
    "qubits=28,num_terms=8919,procs=64,Step=7,Time_grad=1082.5053361249156,job=5943067,e0=-64.65802704,e_delta=-73.41735027\n",
    "qubits=28,num_terms=8919,procs=64,Step=8,Time_grad=1073.2843922020402,job=5943067,e0=-64.65802704,e_delta=-73.59079902\n",
    "qubits=28,num_terms=8919,procs=64,Step=9,Time_grad=1073.0989136570133,job=5943067,e0=-64.65802704,e_delta=-73.73945174\"\"\"\n",
    "\n",
    "#Energies=[array(-64.65802704), array(-67.27855081), array(-69.49508568), array(-71.06337096), array(-72.00536815), array(-72.56929191), array(-72.93940562), array(-73.20750035), array(-73.41735027), array(-73.59079902), array(-73.73945174)],Time_fwd=1070.3482580080163\n",
    "#11964 seconds elapsed.\n"
   ]
  },
  {
   "cell_type": "code",
   "execution_count": null,
   "id": "761c53f9-5cd7-409c-8774-2c8d3637b9e5",
   "metadata": {},
   "outputs": [],
   "source": [
    "data_28_4_nodes=\"\"\"qubits=28,num_terms=8919,procs=32,Step=0,Time_grad=2410.9625001391396,job=5948097,e0=-64.65802704,e_delta=-67.27855081\n",
    "qubits=28,num_terms=8919,procs=32,Step=1,Time_grad=2368.7483755238354,job=5948097,e0=-64.65802704,e_delta=-69.49508568\n",
    "qubits=28,num_terms=8919,procs=32,Step=2,Time_grad=2711.640856202692,job=5948097,e0=-64.65802704,e_delta=-71.06337096\n",
    "qubits=28,num_terms=8919,procs=32,Step=3,Time_grad=2664.8521126834676,job=5948097,e0=-64.65802704,e_delta=-72.00536815\n",
    "qubits=28,num_terms=8919,procs=32,Step=4,Time_grad=2783.3437565807253,job=5948097,e0=-64.65802704,e_delta=-72.56929191\n",
    "qubits=28,num_terms=8919,procs=32,Step=5,Time_grad=2379.4648080021143,job=5948097,e0=-64.65802704,e_delta=-72.93940562\n",
    "qubits=28,num_terms=8919,procs=32,Step=6,Time_grad=2380.255602712743,job=5948097,e0=-64.65802704,e_delta=-73.20750035\n",
    "qubits=28,num_terms=8919,procs=32,Step=7,Time_grad=2376.119038485922,job=5948097,e0=-64.65802704,e_delta=-73.41735027\n",
    "qubits=28,num_terms=8919,procs=32,Step=8,Time_grad=2374.853575114161,job=5948097,e0=-64.65802704,e_delta=-73.59079902\n",
    "qubits=28,num_terms=8919,procs=32,Step=9,Time_grad=2713.354853471741,job=5948097,e0=-64.65802704,e_delta=-73.73945174\"\"\"\n",
    "\n",
    "#Energies=[array(-64.65802704), array(-67.27855081), array(-69.49508568), array(-71.06337096), array(-72.00536815), array(-72.56929191), array(-72.93940562), array(-73.20750035), array(-73.41735027), array(-73.59079902), array(-73.73945174)],Time_fwd=2669.594713302329\n",
    "#27908 seconds elapsed.\n"
   ]
  },
  {
   "cell_type": "code",
   "execution_count": null,
   "id": "91059c38-cb27-47c4-aa87-80e674638e80",
   "metadata": {},
   "outputs": [],
   "source": [
    "data_28_2_nodes=\"\"\"qubits=28,num_terms=8919,procs=16,Step=0,Time_grad=6786.071884069592,job=5950528,e0=-64.65802704,e_delta=-67.27855081\n",
    "qubits=28,num_terms=8919,procs=16,Step=1,Time_grad=6750.951335852966,job=5950528,e0=-64.65802704,e_delta=-69.49508568\n",
    "qubits=28,num_terms=8919,procs=16,Step=2,Time_grad=6572.787441344,job=5950528,e0=-64.65802704,e_delta=-71.06337096\n",
    "qubits=28,num_terms=8919,procs=16,Step=3,Time_grad=6744.859427208081,job=5950528,e0=-64.65802704,e_delta=-72.00536815\n",
    "qubits=28,num_terms=8919,procs=16,Step=4,Time_grad=6512.405617051758,job=5950528,e0=-64.65802704,e_delta=-72.56929191\n",
    "qubits=28,num_terms=8919,procs=16,Step=5,Time_grad=6625.331841508858,job=5950528,e0=-64.65802704,e_delta=-72.93940562\n",
    "qubits=28,num_terms=8919,procs=16,Step=6,Time_grad=6630.473427007906,job=5950528,e0=-64.65802704,e_delta=-73.20750035\n",
    "qubits=28,num_terms=8919,procs=16,Step=7,Time_grad=6537.251033165492,job=5950528,e0=-64.65802704,e_delta=-73.41735027\n",
    "qubits=28,num_terms=8919,procs=16,Step=8,Time_grad=6473.400821506977,job=5950528,e0=-64.65802704,e_delta=-73.59079902\n",
    "qubits=28,num_terms=8919,procs=16,Step=9,Time_grad=6412.037973268889,job=5950528,e0=-64.65802704,e_delta=-73.73945174\"\"\"\n",
    "\n",
    "#Energies=[array(-64.65802704), array(-67.27855081), array(-69.49508568), array(-71.06337096), array(-72.00536815), array(-72.56929191), array(-72.93940562), array(-73.20750035), array(-73.41735027), array(-73.59079902), array(-73.73945174)],Time_fwd=6543.474122568034\n",
    "#72662 seconds elapsed.\n"
   ]
  },
  {
   "cell_type": "code",
   "execution_count": null,
   "id": "bafd31b2-cf5c-403d-b6fc-2da442d9561e",
   "metadata": {},
   "outputs": [],
   "source": [
    "data_28_1_nodes=\"\"\"qubits=28,num_terms=8919,procs=8,Step=0,Time_grad=20188.61789894104,job=5959714,e0=-64.65802704,e_delta=nan\n",
    "qubits=28,num_terms=8919,procs=8,Step=1,Time_grad=19831.999589309096,job=5959714,e0=-64.65802704,e_delta=nan\n",
    "qubits=28,num_terms=8919,procs=8,Step=2,Time_grad=19824.571822844446,job=5959714,e0=-64.65802704,e_delta=nan\n",
    "qubits=28,num_terms=8919,procs=8,Step=3,Time_grad=19823.037466246635,job=5959714,e0=-64.65802704,e_delta=nan\n",
    "qubits=28,num_terms=8919,procs=8,Step=4,Time_grad=19829.425746206194,job=5959714,e0=-64.65802704,e_delta=nan\n",
    "qubits=28,num_terms=8919,procs=8,Step=5,Time_grad=19831.71927189827,job=5959714,e0=-64.65802704,e_delta=nan\n",
    "qubits=28,num_terms=8919,procs=8,Step=6,Time_grad=19840.40221013967,job=5959714,e0=-64.65802704,e_delta=nan\n",
    "qubits=28,num_terms=8919,procs=8,Step=7,Time_grad=19863.93880375568,job=5959714,e0=-64.65802704,e_delta=nan\"\"\"\n",
    "\n",
    "#47::59:59"
   ]
  },
  {
   "cell_type": "markdown",
   "id": "9b8341ad-d2a8-4342-a078-f479734f9769",
   "metadata": {},
   "source": [
    "Create pandas dataframes from each CSV-generated data-set"
   ]
  },
  {
   "cell_type": "code",
   "execution_count": null,
   "id": "775e7ab2-e544-4aa4-8903-d677dd5a0527",
   "metadata": {},
   "outputs": [],
   "source": [
    "def data_parse(data):\n",
    "    \"Simple CSV filter and generator for the above data\"\n",
    "    entries = data.split(\"\\n\")\n",
    "    entries = [i.split(\",\") for i in entries]\n",
    "    header = \",\".join([i.split(\"=\")[0] for i in entries[0]])\n",
    "    csv = \"\\n\"\n",
    "    for row in entries:\n",
    "        csv += \",\".join([i.split(\"=\")[1] for i in row])\n",
    "        csv += \"\\n\"\n",
    "    return header + csv"
   ]
  },
  {
   "cell_type": "code",
   "execution_count": null,
   "id": "6ca81cfe-75c1-482d-bd93-7c5c8982c8ac",
   "metadata": {},
   "outputs": [],
   "source": [
    "df_28_32nodes = pd.read_csv(StringIO(data_parse(data_28_32_nodes)))\n",
    "df_28_16nodes = pd.read_csv(StringIO(data_parse(data_28_16_nodes)))\n",
    "df_28_8nodes = pd.read_csv(StringIO(data_parse(data_28_8_nodes)))\n",
    "df_28_4nodes = pd.read_csv(StringIO(data_parse(data_28_4_nodes)))\n",
    "df_28_2nodes = pd.read_csv(StringIO(data_parse(data_28_2_nodes)))\n",
    "df_28_1nodes = pd.read_csv(StringIO(data_parse(data_28_1_nodes)))"
   ]
  },
  {
   "cell_type": "markdown",
   "id": "2d010cae-6937-433f-8f66-0981750cf3ac",
   "metadata": {},
   "source": [
    "Note that the 1 node (8 GPU) run was unable to complete within the 48-hour wall-clock time limit. As such, we have used the obtained data to estimate the runtime of the missing samples, and presented this separately from the complete data."
   ]
  },
  {
   "cell_type": "code",
   "execution_count": null,
   "id": "2b737fde-573b-46ea-a6c0-d1fc34c81cff",
   "metadata": {},
   "outputs": [],
   "source": [
    "rng = np.random.default_rng(42)\n",
    "samples = rng.normal(np.mean(df_28_1nodes[\"Time_grad\"]), np.std(df_28_1nodes[\"Time_grad\"]), 2)\n",
    "\n",
    "data_28_1_nodes_est=f\"\"\"qubits=28,num_terms=8919,procs=8,Step=0,Time_grad=20188.61789894104,job=5959714,e0=-64.65802704,e_delta=nan\n",
    "qubits=28,num_terms=8919,procs=8,Step=1,Time_grad=19831.999589309096,job=5959714,e0=-64.65802704,e_delta=nan\n",
    "qubits=28,num_terms=8919,procs=8,Step=2,Time_grad=19824.571822844446,job=5959714,e0=-64.65802704,e_delta=nan\n",
    "qubits=28,num_terms=8919,procs=8,Step=3,Time_grad=19823.037466246635,job=5959714,e0=-64.65802704,e_delta=nan\n",
    "qubits=28,num_terms=8919,procs=8,Step=4,Time_grad=19829.425746206194,job=5959714,e0=-64.65802704,e_delta=nan\n",
    "qubits=28,num_terms=8919,procs=8,Step=5,Time_grad=19831.71927189827,job=5959714,e0=-64.65802704,e_delta=nan\n",
    "qubits=28,num_terms=8919,procs=8,Step=6,Time_grad=19840.40221013967,job=5959714,e0=-64.65802704,e_delta=nan\n",
    "qubits=28,num_terms=8919,procs=8,Step=7,Time_grad=19863.93880375568,job=5959714,e0=-64.65802704,e_delta=nan\n",
    "qubits=28,num_terms=8919,procs=8,Step=8,Time_grad={samples[0]},job=5959714,e0=-64.65802704,e_delta=nan\n",
    "qubits=28,num_terms=8919,procs=8,Step=9,Time_grad={samples[1]},job=5959714,e0=-64.65802704,e_delta=nan\"\"\""
   ]
  },
  {
   "cell_type": "code",
   "execution_count": null,
   "id": "a18a38a4-f3ed-4815-a316-66bb32baa98d",
   "metadata": {},
   "outputs": [],
   "source": [
    "df_28_1nodes_est = pd.read_csv(StringIO(data_parse(data_28_1_nodes_est)))"
   ]
  },
  {
   "cell_type": "markdown",
   "id": "774bb65f-4455-4fec-bc3b-fe5047546b9e",
   "metadata": {},
   "source": [
    "Plot the cost-function to demonstrate training and minimization."
   ]
  },
  {
   "cell_type": "code",
   "execution_count": null,
   "id": "ec9a80d8-1a94-43de-b6eb-845a8cdd2405",
   "metadata": {},
   "outputs": [],
   "source": [
    "plt.plot(df_28_8nodes[\"Step\"], df_28_8nodes[\"e_delta\"], marker=\"o\", mec=\"k\", linewidth=2)"
   ]
  },
  {
   "cell_type": "code",
   "execution_count": null,
   "id": "9d77c260-2fe5-4cf4-9fb3-750da6ae9784",
   "metadata": {},
   "outputs": [],
   "source": [
    "def gen_avgs(df):\n",
    "    t_total = np.sum(df[\"Time_grad\"])\n",
    "    mean = np.mean(df[\"Time_grad\"])\n",
    "    stddev =  np.std(df[\"Time_grad\"])\n",
    "    return t_total, mean, stddev"
   ]
  },
  {
   "cell_type": "markdown",
   "id": "25b59e10-884b-45f5-8fe4-55ba3ab6fb84",
   "metadata": {},
   "source": [
    "Extract timing values vs nodes"
   ]
  },
  {
   "cell_type": "code",
   "execution_count": null,
   "id": "38fc1643-9df4-4cd0-acb6-a5e0e7e8886c",
   "metadata": {},
   "outputs": [],
   "source": [
    "vals_t = [(x,gen_avgs(y)) for (x,y) in zip([1, 2,4,8, 16, 32],[df_28_1nodes, df_28_2nodes, df_28_4nodes, df_28_8nodes, df_28_16nodes, df_28_32nodes])]"
   ]
  },
  {
   "cell_type": "markdown",
   "id": "85bfc895-817a-4c63-b0e2-c5994262aac6",
   "metadata": {},
   "source": [
    "Extract obtained energies (optional -- for optimizer comparison only)"
   ]
  },
  {
   "cell_type": "code",
   "execution_count": null,
   "id": "b547773a-3c73-4ee8-9f2c-aa82c1e2439a",
   "metadata": {},
   "outputs": [],
   "source": [
    "vals_en = [(x,y) for (x,y) in zip(range(10), df_28_2nodes[\"e_delta\"])]"
   ]
  },
  {
   "cell_type": "code",
   "execution_count": null,
   "id": "0b26569d-20a1-4886-9969-c30c4fad2029",
   "metadata": {},
   "outputs": [],
   "source": [
    "font = {'family' : 'normal',\n",
    "        'weight' : 'bold',\n",
    "        'size'   : 14}\n",
    "\n",
    "matplotlib.rc('font', **font)"
   ]
  },
  {
   "cell_type": "code",
   "execution_count": null,
   "id": "49f0b05c-1df9-4a57-82a6-c8a03adeba16",
   "metadata": {},
   "outputs": [],
   "source": [
    "plot_energy = False"
   ]
  },
  {
   "cell_type": "code",
   "execution_count": null,
   "id": "ef5a9ced-8f86-4a97-acbd-b3223bdcedf1",
   "metadata": {},
   "outputs": [],
   "source": [
    "plt.close(\"all\")\n",
    "if plot_energy:\n",
    "    fig, (ax1,ax2) = plt.subplots(2,1)\n",
    "    \n",
    "    gpus_per_node = 8\n",
    "    ax1.set_xlabel('$\\\\textrm{\\# GPUs}$')\n",
    "    ax1.set_ylabel('$t$ $\\\\textrm{(s/10 iterations)}$')\n",
    "    \n",
    "    # Add estimatated 1 node time by sampling from normal dist taken from existing 1 node mean and stddev\n",
    "    ax1.plot([1*gpus_per_node, 2*gpus_per_node ], [gen_avgs(df_28_1nodes_est)[0], gen_avgs(df_28_2nodes)[0] ], \"--\", marker=\"o\",  color = \"#af77b4\", mec=\"k\", linewidth=2, label=\"1 node est.\")\n",
    "    ax1.plot([i[0]*gpus_per_node for idx,i in enumerate(vals_t) if idx !=0 ], [i[1][0] for idx,i in enumerate(vals_t) if idx !=0], marker=\"o\", mec=\"k\", linewidth=2)\n",
    "    ax1.set_yscale('log', base = 10)\n",
    "    ax1.set_xscale('log', base = 2)\n",
    "    ax1.set_ylim([2e3, 2.5e5])\n",
    "    ax1.set_xticks([2**i for i in range(3, 9, 1)], labels=[f\"{2**i}\" for i in range(3, 9, 1)])\n",
    "    \n",
    "    ax2.set_xlabel('$\\\\textrm{optim. iterations}$') \n",
    "    ax2.set_ylabel('$\\\\textrm{energy (Ha)}$')\n",
    "    ax2.plot([i[0] for i in vals_en], [i[1] for i in vals_en], marker=\"v\", mec=\"k\", linewidth=2)\n",
    "    ax2.tick_params(axis='y')\n",
    "    \n",
    "    fig.tight_layout()  # otherwise the right y-label is slightly clipped\n",
    "    plt.savefig(f\"{fig_output_dir}/lkokkos_mi250x_c2h4.pdf\", dpi=200)\n",
    "else:\n",
    "    fig, ax1 = plt.subplots(1,1)\n",
    "    \n",
    "    gpus_per_node = 8\n",
    "    ax1.set_xlabel('$\\\\textrm{\\# GPUs}$')\n",
    "    ax1.set_ylabel('$t$ $\\\\textrm{(s/10 iterations)}$')\n",
    "    \n",
    "    # Add estimatated 1 node time by sampling from normal dist taken from existing 1 node mean and stddev\n",
    "    ax1.plot([1*gpus_per_node, 2*gpus_per_node ], [gen_avgs(df_28_1nodes_est)[0], gen_avgs(df_28_2nodes)[0] ], \"--\", marker=\"o\",  color = \"#af77b4\", mec=\"k\", linewidth=2, label=\"1 node est.\")\n",
    "    ax1.plot([i[0]*gpus_per_node for idx,i in enumerate(vals_t) if idx !=0 ], [i[1][0] for idx,i in enumerate(vals_t) if idx !=0], marker=\"o\", mec=\"k\", linewidth=2)\n",
    "    ax1.set_yscale('log', base = 10)\n",
    "    ax1.set_xscale('log', base = 2)\n",
    "    ax1.set_ylim([2e3, 2.5e5])\n",
    "    ax1.set_xticks([2**i for i in range(3, 9, 1)], labels=[f\"{2**i}\" for i in range(3, 9, 1)])"
   ]
  },
  {
   "cell_type": "code",
   "execution_count": null,
   "id": "58fb9c8c-5968-4183-8e8d-fd9936b74a78",
   "metadata": {},
   "outputs": [],
   "source": [
    "fig.tight_layout()"
   ]
  },
  {
   "cell_type": "code",
   "execution_count": null,
   "id": "85e9e832-679c-408e-99a3-94982b6f06f7",
   "metadata": {},
   "outputs": [],
   "source": [
    "plt.savefig(f\"{fig_output_dir}/lkokkos_mi250x_c2h4.pdf\", dpi=200)"
   ]
  }
 ],
 "metadata": {
  "kernelspec": {
   "display_name": "Python 3 (ipykernel)",
   "language": "python",
   "name": "python3"
  },
  "language_info": {
   "codemirror_mode": {
    "name": "ipython",
    "version": 3
   },
   "file_extension": ".py",
   "mimetype": "text/x-python",
   "name": "python",
   "nbconvert_exporter": "python",
   "pygments_lexer": "ipython3",
   "version": "3.11.6"
  }
 },
 "nbformat": 4,
 "nbformat_minor": 5
}
