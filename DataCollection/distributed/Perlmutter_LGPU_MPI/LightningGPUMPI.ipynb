{
 "cells": [
  {
   "cell_type": "code",
   "execution_count": null,
   "id": "e8a97a29-6ed8-486c-b854-a2fc93b3a071",
   "metadata": {},
   "outputs": [],
   "source": [
    "%matplotlib qt"
   ]
  },
  {
   "cell_type": "code",
   "execution_count": null,
   "id": "02d48ec4-2430-49fb-a067-f8ca11b6ac7a",
   "metadata": {},
   "outputs": [],
   "source": [
    "import matplotlib\n",
    "from matplotlib import pyplot as plt\n",
    "import pandas as pd\n",
    "import numpy as np \n",
    "import sqlite3\n",
    "from itertools import product\n",
    "from io import StringIO\n",
    "import pathlib"
   ]
  },
  {
   "cell_type": "code",
   "execution_count": null,
   "id": "d5228070-df26-43a2-8459-8a808c3cd948",
   "metadata": {},
   "outputs": [],
   "source": [
    "plt.rcParams['text.usetex'] = True\n",
    "fig_output_dir=\"Figures\"\n",
    "pathlib.Path(fig_output_dir).mkdir(parents=True, exist_ok=True) "
   ]
  },
  {
   "cell_type": "markdown",
   "id": "ff135ea9-13a9-482e-8278-c283cde33ce6",
   "metadata": {},
   "source": [
    "## Explicitly added data from Perlmutter logs"
   ]
  },
  {
   "cell_type": "code",
   "execution_count": null,
   "id": "9675e549-a0bf-4a08-b454-bdddbc8a9232",
   "metadata": {},
   "outputs": [],
   "source": [
    "data_samples_sel=\"\"\"Nodes_num\tGPU_num\tNum_Qubits\tTiming(second)\n",
    "1\t2\t33\t19.9864\n",
    "1\t4\t34\t27.5023\n",
    "2\t8\t35\t75.8404\n",
    "4\t16\t36\t121.0355\n",
    "8\t32\t37\t164.8277\n",
    "16\t64\t38\t206.6019\n",
    "32\t128\t39\t248.1001\n",
    "64\t256\t40\t300.3545\n",
    "128\t512\t41\t343.8438\"\"\"\n",
    "\n",
    "\n",
    "data_adjoint_sel=\"\"\"Nodes_num\tGPU_num\tNum_Qubits\tTiming(second)\tlayers\n",
    "64\t256\t37\t2304.71028\t1\n",
    "32\t128\t36\t1916.874307\t1\n",
    "16\t64\t35\t1541.559073\t1\n",
    "8\t32\t34\t1164.236925\t1\n",
    "4\t16\t33\t845.7922967\t1\n",
    "2\t8\t32\t754.2725837\t1\n",
    "1\t4\t31\t675.4695403\t1\"\"\""
   ]
  },
  {
   "cell_type": "code",
   "execution_count": null,
   "id": "1f147645-5d03-4f71-84a9-4a694aca36b2",
   "metadata": {},
   "outputs": [],
   "source": [
    "data_samples_sel_perlmutter = pd.read_csv(StringIO(data_samples_sel), delimiter=\"\\t\")\n",
    "data_adjoint_sel_perlmutter = pd.read_csv(StringIO(data_adjoint_sel), delimiter=\"\\t\")"
   ]
  },
  {
   "cell_type": "code",
   "execution_count": null,
   "id": "fc943593-d7fb-43a6-83fd-80b7ee12ebf3",
   "metadata": {},
   "outputs": [],
   "source": [
    "data_samples_sel_perlmutter"
   ]
  },
  {
   "cell_type": "code",
   "execution_count": null,
   "id": "175939bb-d54b-4c45-9e66-23127c88f862",
   "metadata": {},
   "outputs": [],
   "source": [
    "data_adjoint_sel_perlmutter"
   ]
  },
  {
   "cell_type": "markdown",
   "id": "800f7cc3-4553-49f6-819b-44b70814c36e",
   "metadata": {},
   "source": [
    "## Plot samples of SEL"
   ]
  },
  {
   "cell_type": "code",
   "execution_count": null,
   "id": "65e0383d-4042-44af-b2e8-a3088e5e5dfc",
   "metadata": {},
   "outputs": [],
   "source": [
    "cmap = matplotlib.colormaps['tab20']\n",
    "colors = [cmap(0)]\n",
    "plt.rcParams.update({'font.size': 16})\n",
    "\n",
    "plt.figure()\n",
    "x = data_samples_sel_perlmutter[\"Num_Qubits\"]\n",
    "g = data_samples_sel_perlmutter[\"Nodes_num\"]\n",
    "y = data_samples_sel_perlmutter[\"Timing(second)\"]\n",
    "labels = [f\"$\\\\textrm{{{x0}}}$ \" + f\"$({{{l0}}}/{{{l0*4}}})$\" for x0,l0 in zip(x,g)]\n",
    "plt.bar(x,y, color=colors[0], linewidth=2, ec='black')\n",
    "plt.xticks(x, labels, rotation=45,  ha='right', rotation_mode='anchor')\n",
    "plt.xlabel(\"$\\\\textrm{qubits (nodes/gpus)}$\")\n",
    "plt.ylabel(\"$t~\\\\textrm{(s)}$\", fontdict={\"size\" : 16})\n",
    "plt.yscale('log')\n",
    "plt.ylim([1e1, 5e2])\n",
    "plt.tight_layout()\n",
    "plt.savefig(f\"{fig_output_dir}/LGPU_SampleSEL_MPI_Perlmutter.pdf\", dpi=200)\n",
    "plt.close(\"all\")"
   ]
  },
  {
   "cell_type": "markdown",
   "id": "493be7bb-a4f6-4cc4-aae5-2c3427133af6",
   "metadata": {},
   "source": [
    "## Plot adjoint grad of SEL"
   ]
  },
  {
   "cell_type": "code",
   "execution_count": null,
   "id": "c4fb7984-0440-4e71-bb44-6275e8c74bf5",
   "metadata": {},
   "outputs": [],
   "source": [
    "cmap = matplotlib.colormaps['tab20']\n",
    "colors = [cmap(0)]\n",
    "plt.rcParams.update({'font.size': 16})\n",
    "\n",
    "plt.figure()\n",
    "x = data_adjoint_sel_perlmutter[\"Num_Qubits\"]\n",
    "g = data_adjoint_sel_perlmutter[\"Nodes_num\"]\n",
    "y = data_adjoint_sel_perlmutter[\"Timing(second)\"]\n",
    "labels = [f\"$\\\\textrm{{{x0}}}$ \" + f\"$({{{l0}}}/{{{l0*4}}})$\" for x0,l0 in zip(x,g)]\n",
    "plt.bar(x,y, color=colors[0], linewidth=2, ec='black')\n",
    "plt.xticks(x, labels,  rotation=45,  ha='right', rotation_mode='anchor')\n",
    "plt.xlabel(\"$\\\\textrm{qubits (nodes/gpus)}$\")\n",
    "plt.ylabel(\"$t~\\\\textrm{(s)}$\", fontdict={\"size\" : 16})\n",
    "plt.yscale('log')\n",
    "plt.ylim([5e2, 3e3])\n",
    "plt.tight_layout()\n",
    "plt.savefig(f\"{fig_output_dir}/LGPU_AdjointSEL_MPI_Perlmutter.pdf\", dpi=200)\n",
    "plt.close(\"all\")"
   ]
  },
  {
   "cell_type": "code",
   "execution_count": null,
   "id": "7208b160-4adc-4195-ad39-9e963b1cf5b7",
   "metadata": {},
   "outputs": [],
   "source": [
    "cmap = matplotlib.colormaps['tab20']\n",
    "colors = [cmap(0)]\n",
    "plt.rcParams.update({'font.size': 16})"
   ]
  },
  {
   "cell_type": "code",
   "execution_count": null,
   "id": "e4a6d65a-0e4c-41f3-a374-31a8691c6989",
   "metadata": {},
   "outputs": [],
   "source": [
    "f, axs = plt.subplots(2,1, sharex=False, squeeze=True)\n",
    "\n",
    "for idx,(dat,ax) in enumerate(zip([data_samples_sel_perlmutter, data_adjoint_sel_perlmutter], axs)):\n",
    "    x = dat[\"Num_Qubits\"]\n",
    "    g = dat[\"Nodes_num\"]\n",
    "    y = dat[\"Timing(second)\"]\n",
    "    labels = [f\"$\\\\textrm{{{x0}}}$ \" + f\"$({{{l0}}}/{{{l0*4}}})$\" for x0,l0 in zip(x,g)]\n",
    "    ax.bar(x,y, color=cmap(1+idx*4), linewidth=2, ec='black', label=\"$10^4$ samples\" if idx ==0 else \"Gradient\")\n",
    "    ax.set_xticks(x, labels, rotation=45,  ha='right', rotation_mode='anchor')\n",
    "    if idx == 1:\n",
    "        ax.set_xlabel(\"$\\\\textrm{qubits (nodes/gpus)}$\",  fontdict={\"size\" : 20})\n",
    "    ax.set_ylabel(\"$t~\\\\textrm{(s)}$\", fontdict={\"size\" : 20})\n",
    "    ax.set_yscale('log')\n",
    "    ax.set_ylim([1e1, 5e2] if idx == 0 else [5e2, 3e3])"
   ]
  },
  {
   "cell_type": "code",
   "execution_count": null,
   "id": "51296d4b-6d54-46d6-8e20-3ab4e210ca2d",
   "metadata": {},
   "outputs": [],
   "source": [
    "plt.tight_layout()"
   ]
  },
  {
   "cell_type": "code",
   "execution_count": null,
   "id": "5bb4566d-57a6-45ff-92ef-a9d5901c99ce",
   "metadata": {},
   "outputs": [],
   "source": [
    "plt.tight_layout()\n",
    "plt.subplots_adjust(wspace=0.1, hspace=0.7)"
   ]
  },
  {
   "cell_type": "code",
   "execution_count": null,
   "id": "1658deec-36e3-49f6-9893-80302ce28c5b",
   "metadata": {},
   "outputs": [],
   "source": [
    "fig = plt.figure()\n",
    "offsets = np.linspace(-0.2, 0.2, 2)\n",
    "width = offsets[1] - offsets[0]\n",
    "x_values = set()\n",
    "g_values = set()\n",
    "for idx,dat in enumerate([data_samples_sel_perlmutter,data_adjoint_sel_perlmutter]):\n",
    "    x = dat[\"Num_Qubits\"]\n",
    "    g = dat[\"Nodes_num\"]\n",
    "    y = dat[\"Timing(second)\"]\n",
    "    x_values.update(x)\n",
    "    g_values.update(g)\n",
    "    plt.bar(x+offsets[idx], y, color=cmap(idx*2), width = width, linewidth=2, ec='black', label=\"$10^4$ samples\" if idx ==0 else \"Jacobian\")\n",
    "    if idx == 1:\n",
    "        ax.set_xlabel(\"$\\\\textrm{qubits (nodes/gpus)}$\")\n",
    "    plt.ylabel(\"$t~\\\\textrm{(s)}$\") #, fontdict={\"size\" : 16})\n",
    "    plt.yscale('log')\n",
    "\n",
    "x_values=list(x_values)\n",
    "g_values=list(g_values)\n",
    "\n",
    "print(x_values, g_values)\n",
    "\n",
    "labels = [f\"$\\\\textrm{{{x0}}}$\" for x0 in x_values]\n",
    "plt.xticks(x_values, labels, rotation=45,  ha='right', rotation_mode='anchor')\n",
    "\n",
    "plt.legend()\n",
    "plt.tight_layout()"
   ]
  },
  {
   "cell_type": "code",
   "execution_count": null,
   "id": "5fc276c8-f25a-451c-a859-a4c63195f60c",
   "metadata": {},
   "outputs": [],
   "source": [
    "plt.savefig(f\"{fig_output_dir}/LGPU_SamplesAndAdjointSEL_MPI_Perlmutter.pdf\", dpi=200)"
   ]
  }
 ],
 "metadata": {
  "kernelspec": {
   "display_name": "Python 3 (ipykernel)",
   "language": "python",
   "name": "python3"
  },
  "language_info": {
   "codemirror_mode": {
    "name": "ipython",
    "version": 3
   },
   "file_extension": ".py",
   "mimetype": "text/x-python",
   "name": "python",
   "nbconvert_exporter": "python",
   "pygments_lexer": "ipython3",
   "version": "3.11.6"
  }
 },
 "nbformat": 4,
 "nbformat_minor": 5
}
