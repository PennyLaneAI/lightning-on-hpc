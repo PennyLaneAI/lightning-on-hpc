{
 "cells": [
  {
   "cell_type": "code",
   "execution_count": null,
   "id": "02d48ec4-2430-49fb-a067-f8ca11b6ac7a",
   "metadata": {},
   "outputs": [],
   "source": [
    "import matplotlib\n",
    "from matplotlib import pyplot as plt\n",
    "import pandas as pd\n",
    "import numpy as np \n",
    "import sqlite3\n",
    "from itertools import product\n",
    "import pathlib"
   ]
  },
  {
   "cell_type": "markdown",
   "id": "97e26032-8b0a-497f-8d41-092ba0bdb9ff",
   "metadata": {},
   "source": [
    "Some notebook and data-specific configuration values for plotting."
   ]
  },
  {
   "cell_type": "code",
   "execution_count": null,
   "id": "97610ac5-b9be-47b7-b096-66e15b1212e5",
   "metadata": {},
   "outputs": [],
   "source": [
    "plt.rcParams['text.usetex'] = True\n",
    "fig_output_dir=\"Figures\"\n",
    "pathlib.Path(fig_output_dir).mkdir(parents=True, exist_ok=True) \n",
    "\n",
    "data_src_dir = \"ProcOutputs\"\n",
    "qubit_count = {\"RX\" : 1, \"H\" : 1, \"CNOT\" : 2}\n",
    "lightning_kernels = [\"LM\", \"AVX2\", \"AVX512\"]\n",
    "\n",
    "name_map = {\"lightning\" : \"LightningQubit\",\"lightningStream\" : \"LightningQubitStream\", \"qulacs\" : \"Qulacs\", \"intelqs\":\"IntelQS\", \"quest\": \"QuEST\"}\n",
    "devices = list(name_map.keys())\n",
    "omp_values = [1,4,16,32]\n",
    "cmap = matplotlib.colormaps['tab20c']\n",
    "colors = {k : cmap.colors[1+4*l] for k,l in zip(devices, range(len(devices)))}"
   ]
  },
  {
   "cell_type": "markdown",
   "id": "cc57d6d3-1272-4b47-8eb2-93a1652c96cd",
   "metadata": {},
   "source": [
    "## Data-loader utilities functions"
   ]
  },
  {
   "cell_type": "code",
   "execution_count": null,
   "id": "ab4de328-fa0d-4e63-ad03-9dbf6aeb791f",
   "metadata": {},
   "outputs": [],
   "source": [
    "def load_data(gate: str):\n",
    "    \"Convert CSV data with added header to accessible dictionary\"\n",
    "    num_q = qubit_count[gate]\n",
    "    if num_q == 1:\n",
    "        filename = 'ProcOutputs/header_1q.csv'\n",
    "    else:\n",
    "        filename = 'ProcOutputs/header_2q.csv'\n",
    "\n",
    "    with open(filename, 'r') as h:\n",
    "        header = h.read()\n",
    "    col_names = header[0:-1].split(\",\")\n",
    "    df_others = pd.read_csv(f\"{data_src_dir}/output_{gate}.csv\", names=col_names) # All other frameworks\n",
    "    df_lq_omp = pd.read_csv(f\"{data_src_dir}/output_{gate}_lqomp.csv\", names=col_names) # OpenMP accelerated Lightning\n",
    "    df_lq_omp_s = pd.read_csv(f\"{data_src_dir}/output_{gate}_lqompstream.csv\", names=col_names) # OpenMP accelerated Lightning\n",
    "\n",
    "    data = {}\n",
    "    data[\"LightningOMPBin\"] = df_lq_omp\n",
    "    data[\"LightningOMPStreamBin\"] = df_lq_omp_s\n",
    "    labels = set(df_others[\"sim\"])\n",
    "    \n",
    "    for l in labels:\n",
    "        data[l] = df_others[df_others[\"sim\"] == l]\n",
    "    return data"
   ]
  },
  {
   "cell_type": "code",
   "execution_count": null,
   "id": "103b285f-b24c-4c7d-a57c-ee3b271f2f8b",
   "metadata": {},
   "outputs": [],
   "source": [
    "def db_load(gate = \"CNOT\", qubits = 30, omp = 1, sim = \"lightning\", kernel = 'LM'):\n",
    "    \"Load data through SQL intermediary to subselect the required data for plotting\"\n",
    "    data = load_data(gate)\n",
    "    conn = sqlite3.connect(\":memory:\")\n",
    "    cursor = conn.cursor()\n",
    "\n",
    "    data[\"LightningOMPBin\"].to_sql(\"lightning\", conn)\n",
    "    data[\"LightningOMPStreamBin\"].to_sql(\"lightningStream\", conn)\n",
    "    data[\"QulacsBin\"].to_sql(\"qulacs\", conn)\n",
    "    data[\"IQSBin\"].to_sql(\"intelqs\", conn)\n",
    "    data[\"QuESTBin\"].to_sql(\"quest\", conn)\n",
    "    if gate in (\"H\", \"RX\"):\n",
    "        if sim == \"lightning\":\n",
    "            cursor.execute(f'''SELECT tgt, t_avg FROM {sim} WHERE qubits=? AND omp=? AND (kernel=\"{kernel}\" OR kernel IS NULL)''', (qubits, omp))\n",
    "        else:\n",
    "            cursor.execute(f'''SELECT tgt, t_avg FROM {sim} WHERE qubits=? AND omp=?''', (qubits, omp))\n",
    "    else:\n",
    "        if sim == \"lightning\":\n",
    "            cursor.execute(f'''SELECT ctrl, tgt, t_avg FROM {sim} WHERE qubits=? AND omp=? AND (kernel=\"{kernel}\" OR kernel IS NULL)''', (qubits, omp))\n",
    "        else:\n",
    "            cursor.execute(f'''SELECT ctrl, tgt, t_avg FROM {sim} WHERE qubits=? AND omp=?''', (qubits, omp))\n",
    "\n",
    "    all_rows = cursor.fetchall()\n",
    "    data_out = []\n",
    "    for row in all_rows:\n",
    "        # row[0] returns the first column in the query (name), row[1] returns email column.\n",
    "        if not gate in (\"H\", \"RX\"):\n",
    "            data_out.append([row[0], row[1], row[2]])\n",
    "        else:\n",
    "            data_out.append([row[0], row[1]])\n",
    "\n",
    "    return data_out\n"
   ]
  },
  {
   "cell_type": "markdown",
   "id": "c9a006a1-bdb2-4fc1-b872-173354760930",
   "metadata": {},
   "source": [
    "## Plotting functions"
   ]
  },
  {
   "cell_type": "code",
   "execution_count": null,
   "id": "b8556b17-1198-4d6f-b5f9-51020c4607ab",
   "metadata": {},
   "outputs": [],
   "source": [
    "def plot_gate_multisim_1q(gate = \"H\", qubits=30, optional_kernel = \"AVX512\"):\n",
    "    \"Plot simulators for a given gate grouped by OpenMP threads\"\n",
    "    plt.rcParams.update({'font.size': 16})\n",
    "\n",
    "    for omp in omp_values:\n",
    "        f = plt.figure()\n",
    "        x = range(qubits)\n",
    "        for j in devices:\n",
    "            y = [i[qubit_count[gate]]*1e-3 for i in db_load(gate=gate, qubits = qubits, omp = omp, sim = j, kernel=optional_kernel)]\n",
    "            plt.plot(x, y,\n",
    "                     label=f\"$\\\\textrm{{{name_map[j]}}}$\", marker=\"o\", \n",
    "                     linewidth=2, mec='black', mew=1,\n",
    "                    )\n",
    "        plt.xlabel(\"$\\\\textrm{gate index}$\")\n",
    "        plt.ylabel(\"$t$ (s)\")\n",
    "        plt.legend(ncol=2, fontsize=12, fancybox=True, shadow=True)\n",
    "        plt.tight_layout()\n",
    "        plt.savefig(f\"{fig_output_dir}/{gate}_Lineplots_OMP{omp}_qubits{qubits}.pdf\", dpi=200)\n",
    "        plt.close(f)"
   ]
  },
  {
   "cell_type": "code",
   "execution_count": null,
   "id": "3c4d8f8b-7e7e-4f7a-aa73-21e4067f7a79",
   "metadata": {},
   "outputs": [],
   "source": [
    "def plot_gate_bar(gate = \"H\", qubits=30, optional_kernel = \"AVX512\", use_semilogy=False):    \n",
    "    \"Bar plot of averaged gate runtiomes over all indices grouped by OpenMP threading\"\n",
    "    plt.rcParams.update({'font.size': 16})\n",
    "    f = plt.figure()\n",
    "    if use_semilogy:\n",
    "        plt.semilogy()\n",
    "    offsets = np.linspace(-0.25,0.25, len(name_map))\n",
    "    for omp_idx,omp in enumerate(omp_values):\n",
    "        for dev_idx,j in enumerate(devices):\n",
    "            x = omp_idx+offsets[dev_idx]\n",
    "            data = [i[qubit_count[gate]]*(1/1000) for i in db_load(gate=gate, qubits = qubits, omp = omp, sim = j, kernel=\"AVX512\")]\n",
    "            data_m, data_std = np.mean(data), np.std(data)\n",
    "            if omp_idx == 0:\n",
    "                label = f\"$\\\\textrm{{{name_map[j]}}}$\"\n",
    "            else:\n",
    "                label = None\n",
    "            plt.bar(x, data_m, label=label, color=colors[j], width=(offsets[1] - offsets[0]),\n",
    "                     linewidth=2, ec='black',\n",
    "                    )\n",
    "            plt.errorbar(x, data_m, yerr=data_std, color=\"k\", linewidth=2, capthick=1, fcolor=None, fmt='.')\n",
    "    plt.xticks(range(4), [f\"${{{i}}}$\" for i in omp_values])\n",
    "    plt.xlabel(\"$\\\\textrm{OpenMP threads}$\")\n",
    "    plt.ylabel(\"$t~\\\\textrm{(s)}$\")\n",
    "    plt.yscale('log')\n",
    "\n",
    "    plt.legend(ncol=1, fontsize=12, fancybox=True, shadow=True)\n",
    "    plt.tight_layout()\n",
    "    plt.savefig(f\"{fig_output_dir}/{gate}_{qubits}_bar_tavg_vs_omp.pdf\", dpi=200)\n",
    "    plt.close(f)"
   ]
  },
  {
   "cell_type": "code",
   "execution_count": null,
   "id": "9a0777c2-21e1-4ce3-b53e-dd62a8bc01fe",
   "metadata": {},
   "outputs": [],
   "source": [
    "def plot_gate_1q_kernels(gate = \"RX\", qubits=30):\n",
    "    \"Line-plots of LightningQubit gates for kernels vs OpenMP threads\"\n",
    "    fig, axs = plt.subplots(2, 2, sharex=True)\n",
    "    plt.rcParams.update({'font.size': 12})\n",
    "\n",
    "    x = range(qubits)\n",
    "    for idx,omp in enumerate(omp_values):\n",
    "        for j in lightning_kernels:\n",
    "            y = [i[qubit_count[gate]]*1e-3 for i in db_load(gate=gate, qubits = qubits, omp = omp, sim = \"lightning\", kernel=j)]\n",
    "            axs[idx%2, idx//2].plot(x, y, \n",
    "                     label=f\"$\\\\textrm{{{j}}}$\", marker=\"o\", \n",
    "                     linewidth=2, mec='black', mew=1,\n",
    "                    )\n",
    "        if idx%2:\n",
    "            axs[idx%2, idx//2].set_xlabel(\"$\\\\textrm{gate index}$\", fontsize=16)\n",
    "        if not idx//2:\n",
    "            axs[idx%2, idx//2].set_ylabel(\"$t~\\\\textrm{(s)}$\", fontsize=16)\n",
    "\n",
    "        if omp == 32:\n",
    "            axs[1,1].legend(loc='lower left', bbox_to_anchor=(-0.95, -0.6), ncol=3, fancybox=True, shadow=True)\n",
    "\n",
    "        axs[idx%2, idx//2].set_title(f\"$\\\\textrm{{OMP_NUM_THREADS}}={omp}$\", fontsize=12)\n",
    "        plt.tight_layout()\n",
    "    plt.subplots_adjust(wspace=0.35, hspace=0.25)\n",
    "    plt.savefig(f\"{fig_output_dir}/{gate}_q{qubits}_Lineplots_LQ_Kernels.pdf\", dpi=200)\n",
    "    plt.close(fig)"
   ]
  },
  {
   "cell_type": "markdown",
   "id": "062b7ff6-f35f-45e4-9194-12027e23f23e",
   "metadata": {},
   "source": [
    "## Generate all figures"
   ]
  },
  {
   "cell_type": "code",
   "execution_count": null,
   "id": "564de89a-751b-457c-b6f8-a3ac57cbf4c7",
   "metadata": {},
   "outputs": [],
   "source": [
    "for gate,qubits in product([\"RX\", \"H\"], [30]):\n",
    "    plot_gate_multisim_1q(gate, qubits)\n",
    "    plot_gate_1q_kernels(gate, qubits)\n",
    "    plot_gate_bar(gate, qubits)\n",
    "\n",
    "for qubits in [30]:\n",
    "    plot_gate_bar(\"CNOT\", qubits)"
   ]
  },
  {
   "cell_type": "code",
   "execution_count": null,
   "id": "b709defd-8d6a-43fd-ab0e-70cbd4ccf9d9",
   "metadata": {},
   "outputs": [],
   "source": [
    "def plot_gate_bar_single(qubits=30, optional_kernel = \"AVX512\", use_semilogy=True):    \n",
    "    \"Bar plot of averaged gate runtiomes over all indices grouped by OpenMP threading with gates combined into a single pdf\"\n",
    "    plt.rcParams.update({'font.size': 16})\n",
    "    f, axs = plt.subplots(3,1, sharex=True, squeeze=True)\n",
    "\n",
    "    offsets = np.linspace(-0.25,0.25, len(name_map))\n",
    "\n",
    "    ylims = [(1e-1, 2.5), (1e-1, 2.5), (5e-2, 2.5)]\n",
    "    \n",
    "    for g_idx,gate in enumerate([\"H\", \"RX\", \"CNOT\"]):\n",
    "        ax = axs[g_idx]\n",
    "        ax.set_ylim(ylims[g_idx])\n",
    "        if use_semilogy:\n",
    "            ax.set_yscale('log')\n",
    "    \n",
    "        for omp_idx,omp in enumerate(omp_values):        \n",
    "            for dev_idx,j in enumerate(devices):\n",
    "    \n",
    "                x = omp_idx+offsets[dev_idx]\n",
    "                data = [i[qubit_count[gate]]*(1/1000) for i in db_load(gate=gate, qubits = qubits, omp = omp, sim = j, kernel=\"AVX512\")]\n",
    "                data_m, data_std = np.mean(data), np.std(data)\n",
    "                if omp_idx == 0:\n",
    "                    if name_map[j] == \"LightningQubitStream\":\n",
    "                        name_map[j] = \"LightningQubit (stream)\"\n",
    "                    label = f\"$\\\\textrm{{{name_map[j]}}}$\"\n",
    "                else:\n",
    "                    label = None\n",
    "                ax.bar(x, data_m, label=label, color=colors[j], width=(offsets[1] - offsets[0]),\n",
    "                         linewidth=2, ec='black',\n",
    "                        )\n",
    "                ax.errorbar(x, data_m, yerr=data_std, color=\"k\", linewidth=2, capthick=1, fcolor=None, fmt='.')\n",
    "        ax.set_xticks(range(4), [f\"${{{i}}}$\" for i in omp_values])\n",
    "\n",
    "    axs[1].set_ylabel(\"$t~\\\\textrm{(s)}$\")\n",
    "    axs[-1].set_xlabel(\"$\\\\textrm{OpenMP threads}$\")\n",
    "    \n",
    "    axs[0].legend(loc='best', fontsize=12, ncol=2, fancybox=True, shadow=True)\n",
    "    plt.subplots_adjust(wspace=0.35, hspace=0.25)\n"
   ]
  },
  {
   "cell_type": "markdown",
   "id": "94061295-4f43-4b91-8ff9-48feb99017b1",
   "metadata": {},
   "source": [
    "Manually adjust figure sizing after plotting and save."
   ]
  },
  {
   "cell_type": "code",
   "execution_count": null,
   "id": "a74d913b-4c86-46e4-b86d-7c64fecbfd8b",
   "metadata": {},
   "outputs": [],
   "source": [
    "plot_gate_bar_single()\n",
    "plt.subplots_adjust(wspace=0.1, hspace=0.1)"
   ]
  },
  {
   "cell_type": "code",
   "execution_count": null,
   "id": "10954d7b-a436-474c-aa09-a3f5beaffcf8",
   "metadata": {},
   "outputs": [],
   "source": [
    "plt.tight_layout()"
   ]
  },
  {
   "cell_type": "code",
   "execution_count": null,
   "id": "abee607c-0372-40d9-b0f2-af2fdca1c482",
   "metadata": {},
   "outputs": [],
   "source": [
    "plt.savefig(f\"{fig_output_dir}/H_RX_CNOT_30_bar_tavg_vs_omp_s.pdf\", dpi=200)"
   ]
  },
  {
   "cell_type": "code",
   "execution_count": null,
   "id": "d746ae3a-2979-47ff-abc5-447fb420a784",
   "metadata": {},
   "outputs": [],
   "source": [
    "plt.subplots_adjust(\n",
    "    left  = 0.125,  # the left side of the subplots of the figure\n",
    "    right = 0.9,    # the right side of the subplots of the figure\n",
    "    bottom = 0.1,   # the bottom of the subplots of the figure\n",
    "    top = 0.9,      # the top of the subplots of the figure\n",
    "    wspace = 0.2,   # the amount of width reserved for blank space between subplots\n",
    "    hspace = 0.2,   # the amount of height reserved for white space between subplots\n",
    ")"
   ]
  },
  {
   "cell_type": "code",
   "execution_count": null,
   "id": "94cdfe5b-341d-49ea-a169-b0ca24e1091d",
   "metadata": {},
   "outputs": [],
   "source": [
    "plt.subplots_adjust(wspace=0.1, hspace=0.05)"
   ]
  },
  {
   "cell_type": "markdown",
   "id": "4f91b76e-95c0-4593-929a-055f597e0ef7",
   "metadata": {},
   "source": [
    "The above utility demonstrates the perf change given by the streaming operations."
   ]
  },
  {
   "cell_type": "code",
   "execution_count": null,
   "id": "cbd56a9b-33c8-47d5-af3d-e8cfa5b608c7",
   "metadata": {},
   "outputs": [],
   "source": [
    "def streaming_rel(gate = \"CNOT\", omp = 32):\n",
    "    data_lqs_m = np.mean(db_load(gate=gate, qubits = 30, omp = omp, sim = \"lightningStream\", kernel=\"AVX512\"))\n",
    "    data_lq_m = np.mean(db_load(gate=gate, qubits = 30, omp = omp, sim = \"lightning\", kernel=\"AVX512\"))\n",
    "    data_qu_m = np.mean(db_load(gate=gate, qubits = 30, omp = omp, sim = \"qulacs\",))\n",
    "    data_iqs_m = np.mean(db_load(gate=gate, qubits = 30, omp = omp, sim = \"intelqs\",))\n",
    "    data_quest_m = np.mean(db_load(gate=gate, qubits = 30, omp = omp, sim = \"quest\",))\n",
    "\n",
    "    \n",
    "    return {\"lightning\" : (data_lq_m)/data_lqs_m, \"qulacs\" : data_qu_m/data_lqs_m, \"intelqs\" : data_iqs_m/data_lqs_m, \"data_quest_m\": data_quest_m/data_lqs_m}\n"
   ]
  },
  {
   "cell_type": "code",
   "execution_count": null,
   "id": "880f421c-1ad2-435f-a08b-664df0253c57",
   "metadata": {},
   "outputs": [],
   "source": [
    "streaming_rel(\"CNOT\", omp=16)"
   ]
  },
  {
   "cell_type": "markdown",
   "id": "f5db29bc-8652-48cc-8701-b814c0842c83",
   "metadata": {},
   "source": [
    "The folloing generate the gate-level LQ data with the streaming operations included for comparison."
   ]
  },
  {
   "cell_type": "code",
   "execution_count": null,
   "id": "f93ff96b-6cc6-48a4-ba69-1b1df43d6cc1",
   "metadata": {},
   "outputs": [],
   "source": [
    "def plot_gate_1q_kernels_streaming(gate = \"H\", qubits=30):\n",
    "    \"Line-plots of LightningQubit gates for kernels vs OpenMP threads\"\n",
    "    fig, axs = plt.subplots(2, 2, sharex=True)\n",
    "    plt.rcParams.update({'font.size': 12})\n",
    "    #colors = [cmap.colors[1+4*i] for i in range(4)]\n",
    "\n",
    "    x = range(qubits)\n",
    "    for idx,omp in enumerate(omp_values):\n",
    "        for jdx,j in enumerate(lightning_kernels):\n",
    "            y = [i[qubit_count[gate]]*1e-3 for i in db_load(gate=gate, qubits = qubits, omp = omp, sim = \"lightning\", kernel=j)]\n",
    "            axs[idx%2, idx//2].plot(x, y, \n",
    "                     label=f\"$\\\\textrm{{{j}}}$\", #marker=\"o\", \n",
    "                     linewidth=3, #mec='black', mew=1, #color=colors[jdx]\n",
    "                    )\n",
    "        y = [i[qubit_count[gate]]*1e-3 for i in db_load(gate=gate, qubits = qubits, omp = omp, sim = \"lightningStream\", kernel=\"AVX512\")]\n",
    "        axs[idx%2, idx//2].plot(x, y, \n",
    "                     label=\"$\\\\textrm{AVX512 (stream)}$\", #marker=\"o\", \n",
    "                     linewidth=3, #mec='black', mew=1,# color=colors[3]\n",
    "                    )\n",
    "        if idx%2:\n",
    "            axs[idx%2, idx//2].set_xlabel(\"$\\\\textrm{gate index}$\", fontsize=16)\n",
    "        if not idx//2:\n",
    "            axs[idx%2, idx//2].set_ylabel(\"$t~\\\\textrm{(s)}$\", fontsize=16)\n",
    "\n",
    "        if omp == 32:\n",
    "            axs[1,1].legend(loc='lower left', bbox_to_anchor=(-0.8, -0.65), ncol=2, fancybox=True, shadow=True)\n",
    "\n",
    "        axs[idx%2, idx//2].set_title(f\"$\\\\textrm{{OMP_NUM_THREADS}}={omp}$\", fontsize=12)\n",
    "        plt.tight_layout()\n",
    "    plt.subplots_adjust(wspace=0.35, hspace=0.25)\n",
    "    #plt.savefig(f\"{fig_output_dir}/{gate}_q{qubits}_Lineplots_LQ_Kernels.pdf\", dpi=200)\n",
    "    #plt.close(fig)"
   ]
  },
  {
   "cell_type": "code",
   "execution_count": null,
   "id": "5e4b6990-891a-4ede-a25d-bc4a74ed73be",
   "metadata": {},
   "outputs": [],
   "source": [
    "plot_gate_1q_kernels_streaming(\"RX\")"
   ]
  },
  {
   "cell_type": "code",
   "execution_count": null,
   "id": "a4a29788-33a4-4750-af03-35bcf61b2682",
   "metadata": {},
   "outputs": [],
   "source": [
    "plt.subplots_adjust(wspace=0.2, hspace=0.3)"
   ]
  },
  {
   "cell_type": "code",
   "execution_count": null,
   "id": "04ae1072-94a5-419b-b863-1249d610da49",
   "metadata": {},
   "outputs": [],
   "source": [
    "gate=\"RX\"\n",
    "qubits=30\n",
    "plt.savefig(f\"{fig_output_dir}/{gate}_q{qubits}_Lineplots_LQ_Kernels_Stream.pdf\", dpi=200)"
   ]
  },
  {
   "cell_type": "code",
   "execution_count": null,
   "id": "b782c92e-f17a-42af-a107-58fab9ca106f",
   "metadata": {},
   "outputs": [],
   "source": [
    "plt.tight_layout()"
   ]
  }
 ],
 "metadata": {
  "kernelspec": {
   "display_name": "Python 3 (ipykernel)",
   "language": "python",
   "name": "python3"
  },
  "language_info": {
   "codemirror_mode": {
    "name": "ipython",
    "version": 3
   },
   "file_extension": ".py",
   "mimetype": "text/x-python",
   "name": "python",
   "nbconvert_exporter": "python",
   "pygments_lexer": "ipython3",
   "version": "3.11.6"
  }
 },
 "nbformat": 4,
 "nbformat_minor": 5
}
